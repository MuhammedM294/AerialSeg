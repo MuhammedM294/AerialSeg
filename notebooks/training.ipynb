{
 "cells": [
  {
   "attachments": {},
   "cell_type": "markdown",
   "metadata": {},
   "source": [
    "### Import the relevant packages"
   ]
  },
  {
   "cell_type": "code",
   "execution_count": 1,
   "metadata": {},
   "outputs": [],
   "source": [
    "from src.dataset import SegmentationDataset , create_dataloader , train_augmentation , transform\n",
    "from src.model import UNet\n",
    "from src.train import train_fn\n",
    "from src.eval import eval_fn\n",
    "import pandas as pd\n",
    "import numpy as np\n",
    "import cv2\n",
    "import albumentations as A\n",
    "import os\n",
    "import torch\n",
    "import torch.nn as nn\n",
    "import segmentation_models_pytorch as smp\n",
    "from tqdm.notebook import tqdm as tqdm\n",
    "DEVICE = 'cuda' if torch.cuda.is_available() else 'cpu'\n",
    "import torch.optim as optim\n",
    "df = pd.read_csv('data/image_label_paths.csv')"
   ]
  },
  {
   "attachments": {},
   "cell_type": "markdown",
   "metadata": {},
   "source": [
    "### Prepare the dataset loader"
   ]
  },
  {
   "cell_type": "code",
   "execution_count": 2,
   "metadata": {},
   "outputs": [],
   "source": [
    "train_dataloader = create_dataloader(df, train=True,\n",
    "                                      transform=transform, augment=train_augmentation,\n",
    "                                      batch_size=4, shuffle=True, drop_last=True)\n",
    "valid_dataloader = create_dataloader(df, train=False, \n",
    "                                     transform=transform, augment=None, \n",
    "                                     batch_size=4, shuffle=True, drop_last=True)"
   ]
  },
  {
   "attachments": {},
   "cell_type": "markdown",
   "metadata": {},
   "source": [
    "### Initialize the model and optimizer "
   ]
  },
  {
   "cell_type": "code",
   "execution_count": 3,
   "metadata": {},
   "outputs": [],
   "source": [
    "model = UNet(encoder_name='timm-efficientnet-b0', encoder_weights='imagenet',in_channels=3 , classes=1, activation=None)\n",
    "model.to(DEVICE)\n",
    "optimizer = optim.Adam(model.parameters(), lr=1e-2)"
   ]
  },
  {
   "attachments": {},
   "cell_type": "markdown",
   "metadata": {},
   "source": [
    "### Training for 25 epochs"
   ]
  },
  {
   "cell_type": "code",
   "execution_count": 4,
   "metadata": {},
   "outputs": [
    {
     "name": "stderr",
     "output_type": "stream",
     "text": [
      "100%|██████████| 277/277 [05:18<00:00,  1.15s/it]\n",
      "100%|██████████| 15/15 [00:18<00:00,  1.22s/it]\n"
     ]
    },
    {
     "name": "stdout",
     "output_type": "stream",
     "text": [
      "Epoch: 1:\n",
      "    - Train Loss: 0.7378\n",
      "    - Valid Loss: 0.4816\n",
      "    - IOU Score: 0.463420\n",
      "    - Pixel Accuracy: 93.53%\n",
      "Model Saved\n"
     ]
    },
    {
     "name": "stderr",
     "output_type": "stream",
     "text": [
      "100%|██████████| 277/277 [05:14<00:00,  1.14s/it]\n",
      "100%|██████████| 15/15 [00:09<00:00,  1.59it/s]\n"
     ]
    },
    {
     "name": "stdout",
     "output_type": "stream",
     "text": [
      "Epoch: 2:\n",
      "    - Train Loss: 0.6064\n",
      "    - Valid Loss: 0.4795\n",
      "    - IOU Score: 0.451452\n",
      "    - Pixel Accuracy: 95.99%\n",
      "Model Saved\n"
     ]
    },
    {
     "name": "stderr",
     "output_type": "stream",
     "text": [
      "100%|██████████| 277/277 [04:13<00:00,  1.09it/s]\n",
      "100%|██████████| 15/15 [00:05<00:00,  2.71it/s]\n"
     ]
    },
    {
     "name": "stdout",
     "output_type": "stream",
     "text": [
      "Epoch: 3:\n",
      "    - Train Loss: 0.5743\n",
      "    - Valid Loss: 0.4473\n",
      "    - IOU Score: 0.486943\n",
      "    - Pixel Accuracy: 97.15%\n",
      "Model Saved\n"
     ]
    },
    {
     "name": "stderr",
     "output_type": "stream",
     "text": [
      "100%|██████████| 277/277 [03:16<00:00,  1.41it/s]\n",
      "100%|██████████| 15/15 [00:05<00:00,  2.54it/s]\n"
     ]
    },
    {
     "name": "stdout",
     "output_type": "stream",
     "text": [
      "Epoch: 4:\n",
      "    - Train Loss: 0.5591\n",
      "    - Valid Loss: 0.4355\n",
      "    - IOU Score: 0.497914\n",
      "    - Pixel Accuracy: 97.10%\n",
      "Model Saved\n"
     ]
    },
    {
     "name": "stderr",
     "output_type": "stream",
     "text": [
      "100%|██████████| 277/277 [02:05<00:00,  2.21it/s]\n",
      "100%|██████████| 15/15 [00:03<00:00,  3.82it/s]\n"
     ]
    },
    {
     "name": "stdout",
     "output_type": "stream",
     "text": [
      "Epoch: 5:\n",
      "    - Train Loss: 0.5496\n",
      "    - Valid Loss: 0.4493\n",
      "    - IOU Score: 0.499708\n",
      "    - Pixel Accuracy: 97.70%\n"
     ]
    },
    {
     "name": "stderr",
     "output_type": "stream",
     "text": [
      "100%|██████████| 277/277 [01:55<00:00,  2.40it/s]\n",
      "100%|██████████| 15/15 [00:03<00:00,  4.09it/s]\n"
     ]
    },
    {
     "name": "stdout",
     "output_type": "stream",
     "text": [
      "Epoch: 6:\n",
      "    - Train Loss: 0.5450\n",
      "    - Valid Loss: 0.4087\n",
      "    - IOU Score: 0.511434\n",
      "    - Pixel Accuracy: 94.63%\n",
      "Model Saved\n"
     ]
    },
    {
     "name": "stderr",
     "output_type": "stream",
     "text": [
      "100%|██████████| 277/277 [01:56<00:00,  2.37it/s]\n",
      "100%|██████████| 15/15 [00:03<00:00,  4.03it/s]\n"
     ]
    },
    {
     "name": "stdout",
     "output_type": "stream",
     "text": [
      "Epoch: 7:\n",
      "    - Train Loss: 0.5364\n",
      "    - Valid Loss: 0.4062\n",
      "    - IOU Score: 0.517856\n",
      "    - Pixel Accuracy: 96.24%\n",
      "Model Saved\n"
     ]
    },
    {
     "name": "stderr",
     "output_type": "stream",
     "text": [
      "100%|██████████| 277/277 [01:54<00:00,  2.41it/s]\n",
      "100%|██████████| 15/15 [00:03<00:00,  4.07it/s]\n"
     ]
    },
    {
     "name": "stdout",
     "output_type": "stream",
     "text": [
      "Epoch: 8:\n",
      "    - Train Loss: 0.5355\n",
      "    - Valid Loss: 0.4033\n",
      "    - IOU Score: 0.522005\n",
      "    - Pixel Accuracy: 94.71%\n",
      "Model Saved\n"
     ]
    },
    {
     "name": "stderr",
     "output_type": "stream",
     "text": [
      "100%|██████████| 277/277 [01:55<00:00,  2.39it/s]\n",
      "100%|██████████| 15/15 [00:03<00:00,  4.11it/s]\n"
     ]
    },
    {
     "name": "stdout",
     "output_type": "stream",
     "text": [
      "Epoch: 9:\n",
      "    - Train Loss: 0.5272\n",
      "    - Valid Loss: 0.4078\n",
      "    - IOU Score: 0.524444\n",
      "    - Pixel Accuracy: 95.38%\n"
     ]
    },
    {
     "name": "stderr",
     "output_type": "stream",
     "text": [
      "100%|██████████| 277/277 [01:55<00:00,  2.39it/s]\n",
      "100%|██████████| 15/15 [00:03<00:00,  4.13it/s]\n"
     ]
    },
    {
     "name": "stdout",
     "output_type": "stream",
     "text": [
      "Epoch: 10:\n",
      "    - Train Loss: 0.5278\n",
      "    - Valid Loss: 0.4028\n",
      "    - IOU Score: 0.517824\n",
      "    - Pixel Accuracy: 95.70%\n",
      "Model Saved\n"
     ]
    },
    {
     "name": "stderr",
     "output_type": "stream",
     "text": [
      "100%|██████████| 277/277 [01:55<00:00,  2.40it/s]\n",
      "100%|██████████| 15/15 [00:03<00:00,  4.20it/s]\n"
     ]
    },
    {
     "name": "stdout",
     "output_type": "stream",
     "text": [
      "Epoch: 11:\n",
      "    - Train Loss: 0.5241\n",
      "    - Valid Loss: 0.4031\n",
      "    - IOU Score: 0.519752\n",
      "    - Pixel Accuracy: 96.71%\n"
     ]
    },
    {
     "name": "stderr",
     "output_type": "stream",
     "text": [
      "100%|██████████| 277/277 [01:56<00:00,  2.39it/s]\n",
      "100%|██████████| 15/15 [00:03<00:00,  4.19it/s]\n"
     ]
    },
    {
     "name": "stdout",
     "output_type": "stream",
     "text": [
      "Epoch: 12:\n",
      "    - Train Loss: 0.5194\n",
      "    - Valid Loss: 0.4196\n",
      "    - IOU Score: 0.508028\n",
      "    - Pixel Accuracy: 95.91%\n"
     ]
    },
    {
     "name": "stderr",
     "output_type": "stream",
     "text": [
      "100%|██████████| 277/277 [01:55<00:00,  2.39it/s]\n",
      "100%|██████████| 15/15 [00:03<00:00,  4.07it/s]\n"
     ]
    },
    {
     "name": "stdout",
     "output_type": "stream",
     "text": [
      "Epoch: 13:\n",
      "    - Train Loss: 0.5180\n",
      "    - Valid Loss: 0.4038\n",
      "    - IOU Score: 0.514091\n",
      "    - Pixel Accuracy: 97.04%\n"
     ]
    },
    {
     "name": "stderr",
     "output_type": "stream",
     "text": [
      "100%|██████████| 277/277 [01:55<00:00,  2.41it/s]\n",
      "100%|██████████| 15/15 [00:03<00:00,  4.10it/s]\n"
     ]
    },
    {
     "name": "stdout",
     "output_type": "stream",
     "text": [
      "Epoch: 14:\n",
      "    - Train Loss: 0.5147\n",
      "    - Valid Loss: 0.3986\n",
      "    - IOU Score: 0.524487\n",
      "    - Pixel Accuracy: 93.59%\n",
      "Model Saved\n"
     ]
    },
    {
     "name": "stderr",
     "output_type": "stream",
     "text": [
      "100%|██████████| 277/277 [01:57<00:00,  2.36it/s]\n",
      "100%|██████████| 15/15 [00:03<00:00,  4.05it/s]\n"
     ]
    },
    {
     "name": "stdout",
     "output_type": "stream",
     "text": [
      "Epoch: 15:\n",
      "    - Train Loss: 0.5149\n",
      "    - Valid Loss: 0.3953\n",
      "    - IOU Score: 0.527267\n",
      "    - Pixel Accuracy: 95.01%\n",
      "Model Saved\n"
     ]
    },
    {
     "name": "stderr",
     "output_type": "stream",
     "text": [
      "100%|██████████| 277/277 [01:55<00:00,  2.39it/s]\n",
      "100%|██████████| 15/15 [00:03<00:00,  4.15it/s]\n"
     ]
    },
    {
     "name": "stdout",
     "output_type": "stream",
     "text": [
      "Epoch: 16:\n",
      "    - Train Loss: 0.5115\n",
      "    - Valid Loss: 0.3891\n",
      "    - IOU Score: 0.534952\n",
      "    - Pixel Accuracy: 95.23%\n",
      "Model Saved\n"
     ]
    },
    {
     "name": "stderr",
     "output_type": "stream",
     "text": [
      "100%|██████████| 277/277 [01:56<00:00,  2.37it/s]\n",
      "100%|██████████| 15/15 [00:03<00:00,  3.97it/s]\n"
     ]
    },
    {
     "name": "stdout",
     "output_type": "stream",
     "text": [
      "Epoch: 17:\n",
      "    - Train Loss: 0.5118\n",
      "    - Valid Loss: 0.3871\n",
      "    - IOU Score: 0.531280\n",
      "    - Pixel Accuracy: 95.96%\n",
      "Model Saved\n"
     ]
    },
    {
     "name": "stderr",
     "output_type": "stream",
     "text": [
      "100%|██████████| 277/277 [01:56<00:00,  2.37it/s]\n",
      "100%|██████████| 15/15 [00:03<00:00,  4.17it/s]\n"
     ]
    },
    {
     "name": "stdout",
     "output_type": "stream",
     "text": [
      "Epoch: 18:\n",
      "    - Train Loss: 0.5098\n",
      "    - Valid Loss: 0.4088\n",
      "    - IOU Score: 0.506443\n",
      "    - Pixel Accuracy: 94.23%\n"
     ]
    },
    {
     "name": "stderr",
     "output_type": "stream",
     "text": [
      "100%|██████████| 277/277 [01:54<00:00,  2.41it/s]\n",
      "100%|██████████| 15/15 [00:03<00:00,  4.13it/s]\n"
     ]
    },
    {
     "name": "stdout",
     "output_type": "stream",
     "text": [
      "Epoch: 19:\n",
      "    - Train Loss: 0.5091\n",
      "    - Valid Loss: 0.3882\n",
      "    - IOU Score: 0.525235\n",
      "    - Pixel Accuracy: 95.91%\n"
     ]
    },
    {
     "name": "stderr",
     "output_type": "stream",
     "text": [
      "100%|██████████| 277/277 [01:55<00:00,  2.40it/s]\n",
      "100%|██████████| 15/15 [00:03<00:00,  4.13it/s]\n"
     ]
    },
    {
     "name": "stdout",
     "output_type": "stream",
     "text": [
      "Epoch: 20:\n",
      "    - Train Loss: 0.5079\n",
      "    - Valid Loss: 0.3959\n",
      "    - IOU Score: 0.524105\n",
      "    - Pixel Accuracy: 97.43%\n"
     ]
    },
    {
     "name": "stderr",
     "output_type": "stream",
     "text": [
      "100%|██████████| 277/277 [01:56<00:00,  2.38it/s]\n",
      "100%|██████████| 15/15 [00:03<00:00,  4.16it/s]\n"
     ]
    },
    {
     "name": "stdout",
     "output_type": "stream",
     "text": [
      "Epoch: 21:\n",
      "    - Train Loss: 0.5054\n",
      "    - Valid Loss: 0.3775\n",
      "    - IOU Score: 0.538982\n",
      "    - Pixel Accuracy: 94.61%\n",
      "Model Saved\n"
     ]
    },
    {
     "name": "stderr",
     "output_type": "stream",
     "text": [
      "100%|██████████| 277/277 [01:56<00:00,  2.38it/s]\n",
      "100%|██████████| 15/15 [00:03<00:00,  3.97it/s]\n"
     ]
    },
    {
     "name": "stdout",
     "output_type": "stream",
     "text": [
      "Epoch: 22:\n",
      "    - Train Loss: 0.5057\n",
      "    - Valid Loss: 0.3755\n",
      "    - IOU Score: 0.535636\n",
      "    - Pixel Accuracy: 96.35%\n",
      "Model Saved\n"
     ]
    },
    {
     "name": "stderr",
     "output_type": "stream",
     "text": [
      "100%|██████████| 277/277 [01:57<00:00,  2.36it/s]\n",
      "100%|██████████| 15/15 [00:03<00:00,  4.05it/s]\n"
     ]
    },
    {
     "name": "stdout",
     "output_type": "stream",
     "text": [
      "Epoch: 23:\n",
      "    - Train Loss: 0.5032\n",
      "    - Valid Loss: 0.3939\n",
      "    - IOU Score: 0.532924\n",
      "    - Pixel Accuracy: 95.83%\n"
     ]
    },
    {
     "name": "stderr",
     "output_type": "stream",
     "text": [
      "100%|██████████| 277/277 [01:54<00:00,  2.41it/s]\n",
      "100%|██████████| 15/15 [00:03<00:00,  4.16it/s]\n"
     ]
    },
    {
     "name": "stdout",
     "output_type": "stream",
     "text": [
      "Epoch: 24:\n",
      "    - Train Loss: 0.5058\n",
      "    - Valid Loss: 0.3811\n",
      "    - IOU Score: 0.541059\n",
      "    - Pixel Accuracy: 95.48%\n"
     ]
    },
    {
     "name": "stderr",
     "output_type": "stream",
     "text": [
      "100%|██████████| 277/277 [01:57<00:00,  2.36it/s]\n",
      "100%|██████████| 15/15 [00:03<00:00,  4.03it/s]\n"
     ]
    },
    {
     "name": "stdout",
     "output_type": "stream",
     "text": [
      "Epoch: 25:\n",
      "    - Train Loss: 0.5039\n",
      "    - Valid Loss: 0.3843\n",
      "    - IOU Score: 0.534489\n",
      "    - Pixel Accuracy: 97.52%\n"
     ]
    },
    {
     "ename": "TypeError",
     "evalue": "can't convert cuda:0 device type tensor to numpy. Use Tensor.cpu() to copy the tensor to host memory first.",
     "output_type": "error",
     "traceback": [
      "\u001b[0;31m---------------------------------------------------------------------------\u001b[0m",
      "\u001b[0;31mTypeError\u001b[0m                                 Traceback (most recent call last)",
      "Cell \u001b[0;32mIn[4], line 26\u001b[0m\n\u001b[1;32m     24\u001b[0m np\u001b[39m.\u001b[39msave(\u001b[39mf\u001b[39m\u001b[39m'\u001b[39m\u001b[39mreports/train_losses.npy\u001b[39m\u001b[39m'\u001b[39m, np\u001b[39m.\u001b[39marray(train_lossess))\n\u001b[1;32m     25\u001b[0m np\u001b[39m.\u001b[39msave(\u001b[39mf\u001b[39m\u001b[39m'\u001b[39m\u001b[39mreports/valid_losses.npy\u001b[39m\u001b[39m'\u001b[39m, np\u001b[39m.\u001b[39marray(valid_lossess))\n\u001b[0;32m---> 26\u001b[0m np\u001b[39m.\u001b[39msave(\u001b[39mf\u001b[39m\u001b[39m'\u001b[39m\u001b[39mreports/iou_scores.npy\u001b[39m\u001b[39m'\u001b[39m, np\u001b[39m.\u001b[39;49marray(iou_scores))\n\u001b[1;32m     27\u001b[0m np\u001b[39m.\u001b[39msave(\u001b[39mf\u001b[39m\u001b[39m'\u001b[39m\u001b[39mreports/pixel_accuracy_scores.npy\u001b[39m\u001b[39m'\u001b[39m, np\u001b[39m.\u001b[39marray(pixel_accuracy_scores))\n",
      "File \u001b[0;32m~/anaconda3/envs/cv/lib/python3.11/site-packages/torch/_tensor.py:970\u001b[0m, in \u001b[0;36mTensor.__array__\u001b[0;34m(self, dtype)\u001b[0m\n\u001b[1;32m    968\u001b[0m     \u001b[39mreturn\u001b[39;00m handle_torch_function(Tensor\u001b[39m.\u001b[39m__array__, (\u001b[39mself\u001b[39m,), \u001b[39mself\u001b[39m, dtype\u001b[39m=\u001b[39mdtype)\n\u001b[1;32m    969\u001b[0m \u001b[39mif\u001b[39;00m dtype \u001b[39mis\u001b[39;00m \u001b[39mNone\u001b[39;00m:\n\u001b[0;32m--> 970\u001b[0m     \u001b[39mreturn\u001b[39;00m \u001b[39mself\u001b[39;49m\u001b[39m.\u001b[39;49mnumpy()\n\u001b[1;32m    971\u001b[0m \u001b[39melse\u001b[39;00m:\n\u001b[1;32m    972\u001b[0m     \u001b[39mreturn\u001b[39;00m \u001b[39mself\u001b[39m\u001b[39m.\u001b[39mnumpy()\u001b[39m.\u001b[39mastype(dtype, copy\u001b[39m=\u001b[39m\u001b[39mFalse\u001b[39;00m)\n",
      "\u001b[0;31mTypeError\u001b[0m: can't convert cuda:0 device type tensor to numpy. Use Tensor.cpu() to copy the tensor to host memory first."
     ]
    }
   ],
   "source": [
    "best_loss = np.inf\n",
    "train_lossess = []\n",
    "valid_lossess = []\n",
    "iou_scores = []\n",
    "pixel_accuracy_scores = []\n",
    "epochs = 25\n",
    "for i in range(epochs):\n",
    "    train_loss = train_fn(train_dataloader, model, optimizer)\n",
    "    train_lossess.append(train_loss)\n",
    "    valid_loss,iou , pixel_accuracy  = eval_fn(valid_dataloader, model)\n",
    "    valid_lossess.append(valid_loss)\n",
    "    iou_scores.append(iou)\n",
    "    pixel_accuracy_scores.append(pixel_accuracy)\n",
    "    print(f'Epoch: {i+1}:')\n",
    "    print(f'    - Train Loss: {train_loss:.4f}')\n",
    "    print(f'    - Valid Loss: {valid_loss:.4f}')\n",
    "    print(f'    - IOU Score: {iou:.6f}')\n",
    "    print(f'    - Pixel Accuracy: {pixel_accuracy*100:.2f}%')\n",
    "\n",
    "    if valid_loss < best_loss:\n",
    "        best_loss = valid_loss\n",
    "        torch.save(model.state_dict(), f'models/best_model.pth')\n",
    "        print('Model Saved')\n",
    "np.save(f'reports/train_losses.npy', np.array(train_lossess))\n",
    "np.save(f'reports/valid_losses.npy', np.array(valid_lossess))\n",
    "np.save(f'reports/iou_scores.npy', np.array(iou_scores))\n",
    "np.save(f'reports/pixel_accuracy_scores.npy', np.array(pixel_accuracy_scores))"
   ]
  },
  {
   "attachments": {},
   "cell_type": "markdown",
   "metadata": {},
   "source": [
    "### Visualize the training and validation losses "
   ]
  },
  {
   "cell_type": "code",
   "execution_count": 14,
   "metadata": {},
   "outputs": [
    {
     "data": {
      "image/png": "[encoded data removed]",
      "text/plain": [
       "<Figure size 640x480 with 1 Axes>"
      ]
     },
     "metadata": {},
     "output_type": "display_data"
    }
   ],
   "source": [
    "import matplotlib.pyplot as plt\n",
    "plt.plot(train_lossess, label='Train Loss')\n",
    "plt.plot(valid_lossess, label='Valid Loss')\n",
    "plt.savefig('reports/losses.png')\n",
    "plt.legend()\n",
    "plt.show()"
   ]
  },
  {
   "attachments": {},
   "cell_type": "markdown",
   "metadata": {},
   "source": [
    "### Visualize the pizel accuracy "
   ]
  },
  {
   "cell_type": "code",
   "execution_count": 29,
   "metadata": {},
   "outputs": [
    {
     "data": {
      "image/png": "[encoded data removed]",
      "text/plain": [
       "<Figure size 640x480 with 1 Axes>"
      ]
     },
     "metadata": {},
     "output_type": "display_data"
    }
   ],
   "source": [
    "pixel_accuracy_list= [score.detach().cpu().numpy().tolist() for score in pixel_accuracy_scores]\n",
    "plt.plot(pixel_accuracy_list, label='Pixel Accuracy')\n",
    "plt.savefig('reports/pixel_accuracy.png')\n",
    "plt.legend()\n",
    "plt.show()\n"
   ]
  },
  {
   "cell_type": "code",
   "execution_count": 31,
   "metadata": {},
   "outputs": [
    {
     "data": {
      "image/png": "[encoded data removed]",
      "text/plain": [
       "<Figure size 640x480 with 1 Axes>"
      ]
     },
     "metadata": {},
     "output_type": "display_data"
    }
   ],
   "source": [
    "iou_list= [score.detach().cpu().numpy().tolist() for score in iou_scores]\n",
    "plt.plot(iou_list, label='IOU scores')\n",
    "plt.savefig('reports/iou.png')\n",
    "plt.legend()\n",
    "plt.show()"
   ]
  }
 ],
 "metadata": {
  "kernelspec": {
   "display_name": "cv",
   "language": "python",
   "name": "python3"
  },
  "language_info": {
   "codemirror_mode": {
    "name": "ipython",
    "version": 3
   },
   "file_extension": ".py",
   "mimetype": "text/x-python",
   "name": "python",
   "nbconvert_exporter": "python",
   "pygments_lexer": "ipython3",
   "version": "3.11.3"
  },
  "orig_nbformat": 4
 },
 "nbformat": 4,
 "nbformat_minor": 2
}
