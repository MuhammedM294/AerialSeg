{
 "cells": [
  {
   "attachments": {},
   "cell_type": "markdown",
   "metadata": {},
   "source": [
    "### Import the relevant packages"
   ]
  },
  {
   "cell_type": "code",
   "execution_count": 2,
   "metadata": {},
   "outputs": [],
   "source": [
    "from torch.utils.data import Dataset, DataLoader\n",
    "from torchvision import transforms\n",
    "from src.train import train_fn\n",
    "from src.eval import eval_fn\n",
    "from src.dataset import create_dataloader , train_augmentation , SegmentationDataset , transform\n",
    "from src.model import UNet\n",
    "from src.visualize import visualize_over_epochs\n",
    "from src.metrics import Metrics\n",
    "from torch.optim import Adam ,lr_scheduler\n",
    "import pandas as pd\n",
    "import numpy as np\n",
    "import albumentations as A\n",
    "import matplotlib.pyplot as plt\n",
    "import cv2\n",
    "import os\n",
    "import torch\n",
    "df = pd.read_csv('data/image_label_paths.csv')\n",
    "device = torch.device(\"cuda\" if torch.cuda.is_available() else \"cpu\")\n",
    "pd.options.display.float_format = \"{:,.3f}\".format"
   ]
  },
  {
   "attachments": {},
   "cell_type": "markdown",
   "metadata": {},
   "source": [
    "### Prepare the dataset loader"
   ]
  },
  {
   "cell_type": "code",
   "execution_count": 3,
   "metadata": {},
   "outputs": [],
   "source": [
    "train_dl = create_dataloader(df, train=True,\n",
    "                                      transform=transform, augment=train_augmentation,\n",
    "                                      batch_size=4, shuffle=True, drop_last=True)\n",
    "test_dl = create_dataloader(df, train=False, \n",
    "                                     transform=transform, augment=None, \n",
    "                                     batch_size=4, shuffle=True, drop_last=True)"
   ]
  },
  {
   "attachments": {},
   "cell_type": "markdown",
   "metadata": {},
   "source": [
    "### Initialize the model and optimizer "
   ]
  },
  {
   "cell_type": "code",
   "execution_count": 4,
   "metadata": {},
   "outputs": [],
   "source": [
    "model = UNet(encoder_name='timm-efficientnet-b0', encoder_weights='imagenet',in_channels=3 , classes=1, activation=None)\n",
    "model.to(device)\n",
    "optimizer = Adam(model.parameters(), lr=1e-2)\n",
    "scheduler = lr_scheduler.ReduceLROnPlateau(\n",
    "    optimizer,                                 \n",
    "    factor=0.5 ,                                \n",
    "    patience=0 , \n",
    "    threshold=0.01,                            \n",
    "    verbose=True , \n",
    "    min_lr=1e-5 ,                               \n",
    "    threshold_mode='abs')"
   ]
  },
  {
   "attachments": {},
   "cell_type": "markdown",
   "metadata": {},
   "source": [
    "### Training for 25 epochs"
   ]
  },
  {
   "cell_type": "code",
   "execution_count": 5,
   "metadata": {},
   "outputs": [
    {
     "name": "stdout",
     "output_type": "stream",
     "text": [
      "Epoch: 1:\n",
      "Training ...\n"
     ]
    },
    {
     "name": "stderr",
     "output_type": "stream",
     "text": [
      "100%|██████████| 242/242 [05:35<00:00,  1.39s/it]\n"
     ]
    },
    {
     "name": "stdout",
     "output_type": "stream",
     "text": [
      "Training Done!\n",
      "Epoch Metrics Saved!\n",
      "Metrics Reseted!\n",
      "\n",
      "\n",
      "Validating ...\n"
     ]
    },
    {
     "name": "stderr",
     "output_type": "stream",
     "text": [
      "100%|██████████| 50/50 [01:15<00:00,  1.51s/it]\n"
     ]
    },
    {
     "name": "stdout",
     "output_type": "stream",
     "text": [
      "Validation Done!\n",
      "Epoch Metrics Saved!\n",
      "Metrics Reseted!\n",
      "\n",
      "\n",
      "       loss  accuracy  precision  recall  f1_score  specificity   iou\n",
      "Train 0.702     0.961      0.537   0.513     0.512        0.982 0.354\n",
      "Valid 0.675     0.970      0.509   0.555     0.523        0.983 0.361\n",
      "\n",
      "\n",
      "Model Saved\n",
      "\n",
      "\n",
      "============================================================\n",
      "Epoch: 2:\n",
      "Training ...\n"
     ]
    },
    {
     "name": "stderr",
     "output_type": "stream",
     "text": [
      "100%|██████████| 242/242 [06:10<00:00,  1.53s/it]\n"
     ]
    },
    {
     "name": "stdout",
     "output_type": "stream",
     "text": [
      "Training Done!\n",
      "Epoch Metrics Saved!\n",
      "Metrics Reseted!\n",
      "\n",
      "\n",
      "Validating ...\n"
     ]
    },
    {
     "name": "stderr",
     "output_type": "stream",
     "text": [
      "100%|██████████| 50/50 [00:50<00:00,  1.00s/it]\n"
     ]
    },
    {
     "name": "stdout",
     "output_type": "stream",
     "text": [
      "Validation Done!\n",
      "Epoch Metrics Saved!\n",
      "Metrics Reseted!\n",
      "\n",
      "\n",
      "       loss  accuracy  precision  recall  f1_score  specificity   iou\n",
      "Train 0.603     0.969      0.629   0.592     0.602        0.986 0.436\n",
      "Valid 0.611     0.973      0.550   0.597     0.568        0.985 0.403\n",
      "\n",
      "\n",
      "Model Saved\n",
      "\n",
      "\n",
      "============================================================\n",
      "Epoch: 3:\n",
      "Training ...\n"
     ]
    },
    {
     "name": "stderr",
     "output_type": "stream",
     "text": [
      "100%|██████████| 242/242 [04:36<00:00,  1.14s/it]\n"
     ]
    },
    {
     "name": "stdout",
     "output_type": "stream",
     "text": [
      "Training Done!\n",
      "Epoch Metrics Saved!\n",
      "Metrics Reseted!\n",
      "\n",
      "\n",
      "Validating ...\n"
     ]
    },
    {
     "name": "stderr",
     "output_type": "stream",
     "text": [
      "100%|██████████| 50/50 [00:13<00:00,  3.79it/s]\n"
     ]
    },
    {
     "name": "stdout",
     "output_type": "stream",
     "text": [
      "Validation Done!\n",
      "Epoch Metrics Saved!\n",
      "Metrics Reseted!\n",
      "\n",
      "\n",
      "       loss  accuracy  precision  recall  f1_score  specificity   iou\n",
      "Train 0.577     0.971      0.650   0.607     0.620        0.986 0.455\n",
      "Valid 0.536     0.979      0.674   0.613     0.638        0.991 0.473\n",
      "\n",
      "\n",
      "Model Saved\n",
      "\n",
      "\n",
      "============================================================\n",
      "Epoch: 4:\n",
      "Training ...\n"
     ]
    },
    {
     "name": "stderr",
     "output_type": "stream",
     "text": [
      "100%|██████████| 242/242 [03:41<00:00,  1.09it/s]\n"
     ]
    },
    {
     "name": "stdout",
     "output_type": "stream",
     "text": [
      "Training Done!\n",
      "Epoch Metrics Saved!\n",
      "Metrics Reseted!\n",
      "\n",
      "\n",
      "Validating ...\n"
     ]
    },
    {
     "name": "stderr",
     "output_type": "stream",
     "text": [
      "100%|██████████| 50/50 [00:12<00:00,  3.85it/s]\n"
     ]
    },
    {
     "name": "stdout",
     "output_type": "stream",
     "text": [
      "Validation Done!\n",
      "Epoch Metrics Saved!\n",
      "Metrics Reseted!\n",
      "\n",
      "\n",
      "       loss  accuracy  precision  recall  f1_score  specificity   iou\n",
      "Train 0.560     0.971      0.663   0.620     0.635        0.987 0.470\n",
      "Valid 0.525     0.980      0.698   0.599     0.640        0.992 0.476\n",
      "\n",
      "\n",
      "Model Saved\n",
      "\n",
      "\n",
      "============================================================\n",
      "Epoch: 5:\n",
      "Training ...\n"
     ]
    },
    {
     "name": "stderr",
     "output_type": "stream",
     "text": [
      "100%|██████████| 242/242 [02:57<00:00,  1.37it/s]\n"
     ]
    },
    {
     "name": "stdout",
     "output_type": "stream",
     "text": [
      "Training Done!\n",
      "Epoch Metrics Saved!\n",
      "Metrics Reseted!\n",
      "\n",
      "\n",
      "Validating ...\n"
     ]
    },
    {
     "name": "stderr",
     "output_type": "stream",
     "text": [
      "100%|██████████| 50/50 [00:28<00:00,  1.76it/s]\n"
     ]
    },
    {
     "name": "stdout",
     "output_type": "stream",
     "text": [
      "Validation Done!\n",
      "Epoch Metrics Saved!\n",
      "Metrics Reseted!\n",
      "Epoch 00005: reducing learning rate of group 0 to 5.0000e-03.\n",
      "\n",
      "\n",
      "       loss  accuracy  precision  recall  f1_score  specificity   iou\n",
      "Train 0.551     0.972      0.666   0.628     0.641        0.987 0.477\n",
      "Valid 0.586     0.975      0.586   0.625     0.600        0.986 0.434\n",
      "\n",
      "\n",
      "\n",
      "\n",
      "============================================================\n",
      "Epoch: 6:\n",
      "Training ...\n"
     ]
    },
    {
     "name": "stderr",
     "output_type": "stream",
     "text": [
      "100%|██████████| 242/242 [02:28<00:00,  1.63it/s]\n"
     ]
    },
    {
     "name": "stdout",
     "output_type": "stream",
     "text": [
      "Training Done!\n",
      "Epoch Metrics Saved!\n",
      "Metrics Reseted!\n",
      "\n",
      "\n",
      "Validating ...\n"
     ]
    },
    {
     "name": "stderr",
     "output_type": "stream",
     "text": [
      "100%|██████████| 50/50 [00:29<00:00,  1.67it/s]\n"
     ]
    },
    {
     "name": "stdout",
     "output_type": "stream",
     "text": [
      "Validation Done!\n",
      "Epoch Metrics Saved!\n",
      "Metrics Reseted!\n",
      "\n",
      "\n",
      "       loss  accuracy  precision  recall  f1_score  specificity   iou\n",
      "Train 0.529     0.973      0.687   0.643     0.659        0.988 0.497\n",
      "Valid 0.496     0.981      0.710   0.630     0.663        0.992 0.501\n",
      "\n",
      "\n",
      "Model Saved\n",
      "\n",
      "\n",
      "============================================================\n",
      "Epoch: 7:\n",
      "Training ...\n"
     ]
    },
    {
     "name": "stderr",
     "output_type": "stream",
     "text": [
      "100%|██████████| 242/242 [02:36<00:00,  1.55it/s]\n"
     ]
    },
    {
     "name": "stdout",
     "output_type": "stream",
     "text": [
      "Training Done!\n",
      "Epoch Metrics Saved!\n",
      "Metrics Reseted!\n",
      "\n",
      "\n",
      "Validating ...\n"
     ]
    },
    {
     "name": "stderr",
     "output_type": "stream",
     "text": [
      "100%|██████████| 50/50 [00:17<00:00,  2.80it/s]\n"
     ]
    },
    {
     "name": "stdout",
     "output_type": "stream",
     "text": [
      "Validation Done!\n",
      "Epoch Metrics Saved!\n",
      "Metrics Reseted!\n",
      "\n",
      "\n",
      "       loss  accuracy  precision  recall  f1_score  specificity   iou\n",
      "Train 0.523     0.974      0.692   0.649     0.664        0.988 0.502\n",
      "Valid 0.477     0.983      0.770   0.621     0.682        0.994 0.523\n",
      "\n",
      "\n",
      "Model Saved\n",
      "\n",
      "\n",
      "============================================================\n",
      "Epoch: 8:\n",
      "Training ...\n"
     ]
    },
    {
     "name": "stderr",
     "output_type": "stream",
     "text": [
      "100%|██████████| 242/242 [02:12<00:00,  1.82it/s]\n"
     ]
    },
    {
     "name": "stdout",
     "output_type": "stream",
     "text": [
      "Training Done!\n",
      "Epoch Metrics Saved!\n",
      "Metrics Reseted!\n",
      "\n",
      "\n",
      "Validating ...\n"
     ]
    },
    {
     "name": "stderr",
     "output_type": "stream",
     "text": [
      "100%|██████████| 50/50 [00:14<00:00,  3.43it/s]\n"
     ]
    },
    {
     "name": "stdout",
     "output_type": "stream",
     "text": [
      "Validation Done!\n",
      "Epoch Metrics Saved!\n",
      "Metrics Reseted!\n",
      "Epoch 00008: reducing learning rate of group 0 to 2.5000e-03.\n",
      "\n",
      "\n",
      "       loss  accuracy  precision  recall  f1_score  specificity   iou\n",
      "Train 0.525     0.974      0.688   0.644     0.660        0.988 0.499\n",
      "Valid 0.487     0.982      0.741   0.629     0.674        0.993 0.514\n",
      "\n",
      "\n",
      "\n",
      "\n",
      "============================================================\n",
      "Epoch: 9:\n",
      "Training ...\n"
     ]
    },
    {
     "name": "stderr",
     "output_type": "stream",
     "text": [
      "100%|██████████| 242/242 [03:04<00:00,  1.31it/s]\n"
     ]
    },
    {
     "name": "stdout",
     "output_type": "stream",
     "text": [
      "Training Done!\n",
      "Epoch Metrics Saved!\n",
      "Metrics Reseted!\n",
      "\n",
      "\n",
      "Validating ...\n"
     ]
    },
    {
     "name": "stderr",
     "output_type": "stream",
     "text": [
      "100%|██████████| 50/50 [00:24<00:00,  2.04it/s]\n"
     ]
    },
    {
     "name": "stdout",
     "output_type": "stream",
     "text": [
      "Validation Done!\n",
      "Epoch Metrics Saved!\n",
      "Metrics Reseted!\n",
      "Epoch 00009: reducing learning rate of group 0 to 1.2500e-03.\n",
      "\n",
      "\n",
      "       loss  accuracy  precision  recall  f1_score  specificity   iou\n",
      "Train 0.514     0.974      0.700   0.654     0.671        0.988 0.511\n",
      "Valid 0.470     0.982      0.742   0.650     0.689        0.993 0.530\n",
      "\n",
      "\n",
      "Model Saved\n",
      "\n",
      "\n",
      "============================================================\n",
      "Epoch: 10:\n",
      "Training ...\n"
     ]
    },
    {
     "name": "stderr",
     "output_type": "stream",
     "text": [
      "100%|██████████| 242/242 [02:52<00:00,  1.40it/s]\n"
     ]
    },
    {
     "name": "stdout",
     "output_type": "stream",
     "text": [
      "Training Done!\n",
      "Epoch Metrics Saved!\n",
      "Metrics Reseted!\n",
      "\n",
      "\n",
      "Validating ...\n"
     ]
    },
    {
     "name": "stderr",
     "output_type": "stream",
     "text": [
      "100%|██████████| 50/50 [00:35<00:00,  1.41it/s]\n"
     ]
    },
    {
     "name": "stdout",
     "output_type": "stream",
     "text": [
      "Validation Done!\n",
      "Epoch Metrics Saved!\n",
      "Metrics Reseted!\n",
      "\n",
      "\n",
      "       loss  accuracy  precision  recall  f1_score  specificity   iou\n",
      "Train 0.510     0.974      0.703   0.656     0.674        0.988 0.513\n",
      "Valid 0.462     0.983      0.747   0.662     0.698        0.993 0.540\n",
      "\n",
      "\n",
      "Model Saved\n",
      "\n",
      "\n",
      "============================================================\n",
      "Epoch: 11:\n",
      "Training ...\n"
     ]
    },
    {
     "name": "stderr",
     "output_type": "stream",
     "text": [
      "100%|██████████| 242/242 [02:39<00:00,  1.51it/s]\n"
     ]
    },
    {
     "name": "stdout",
     "output_type": "stream",
     "text": [
      "Training Done!\n",
      "Epoch Metrics Saved!\n",
      "Metrics Reseted!\n",
      "\n",
      "\n",
      "Validating ...\n"
     ]
    },
    {
     "name": "stderr",
     "output_type": "stream",
     "text": [
      "100%|██████████| 50/50 [00:18<00:00,  2.74it/s]\n"
     ]
    },
    {
     "name": "stdout",
     "output_type": "stream",
     "text": [
      "Validation Done!\n",
      "Epoch Metrics Saved!\n",
      "Metrics Reseted!\n",
      "Epoch 00011: reducing learning rate of group 0 to 6.2500e-04.\n",
      "\n",
      "\n",
      "       loss  accuracy  precision  recall  f1_score  specificity   iou\n",
      "Train 0.506     0.975      0.708   0.657     0.677        0.988 0.517\n",
      "Valid 0.459     0.983      0.776   0.642     0.698        0.994 0.540\n",
      "\n",
      "\n",
      "Model Saved\n",
      "\n",
      "\n",
      "============================================================\n",
      "Epoch: 12:\n",
      "Training ...\n"
     ]
    },
    {
     "name": "stderr",
     "output_type": "stream",
     "text": [
      "100%|██████████| 242/242 [02:06<00:00,  1.91it/s]\n"
     ]
    },
    {
     "name": "stdout",
     "output_type": "stream",
     "text": [
      "Training Done!\n",
      "Epoch Metrics Saved!\n",
      "Metrics Reseted!\n",
      "\n",
      "\n",
      "Validating ...\n"
     ]
    },
    {
     "name": "stderr",
     "output_type": "stream",
     "text": [
      "100%|██████████| 50/50 [00:12<00:00,  3.94it/s]\n"
     ]
    },
    {
     "name": "stdout",
     "output_type": "stream",
     "text": [
      "Validation Done!\n",
      "Epoch Metrics Saved!\n",
      "Metrics Reseted!\n",
      "Epoch 00012: reducing learning rate of group 0 to 3.1250e-04.\n",
      "\n",
      "\n",
      "       loss  accuracy  precision  recall  f1_score  specificity   iou\n",
      "Train 0.504     0.975      0.709   0.660     0.679        0.988 0.519\n",
      "Valid 0.457     0.983      0.744   0.669     0.702        0.993 0.545\n",
      "\n",
      "\n",
      "Model Saved\n",
      "\n",
      "\n",
      "============================================================\n",
      "Epoch: 13:\n",
      "Training ...\n"
     ]
    },
    {
     "name": "stderr",
     "output_type": "stream",
     "text": [
      "100%|██████████| 242/242 [01:53<00:00,  2.13it/s]\n"
     ]
    },
    {
     "name": "stdout",
     "output_type": "stream",
     "text": [
      "Training Done!\n",
      "Epoch Metrics Saved!\n",
      "Metrics Reseted!\n",
      "\n",
      "\n",
      "Validating ...\n"
     ]
    },
    {
     "name": "stderr",
     "output_type": "stream",
     "text": [
      "100%|██████████| 50/50 [00:13<00:00,  3.80it/s]\n"
     ]
    },
    {
     "name": "stdout",
     "output_type": "stream",
     "text": [
      "Validation Done!\n",
      "Epoch Metrics Saved!\n",
      "Metrics Reseted!\n",
      "Epoch 00013: reducing learning rate of group 0 to 1.5625e-04.\n",
      "\n",
      "\n",
      "       loss  accuracy  precision  recall  f1_score  specificity   iou\n",
      "Train 0.500     0.975      0.713   0.661     0.682        0.989 0.522\n",
      "Valid 0.464     0.983      0.745   0.657     0.692        0.993 0.536\n",
      "\n",
      "\n",
      "\n",
      "\n",
      "============================================================\n",
      "Epoch: 14:\n",
      "Training ...\n"
     ]
    },
    {
     "name": "stderr",
     "output_type": "stream",
     "text": [
      "100%|██████████| 242/242 [02:19<00:00,  1.73it/s]\n"
     ]
    },
    {
     "name": "stdout",
     "output_type": "stream",
     "text": [
      "Training Done!\n",
      "Epoch Metrics Saved!\n",
      "Metrics Reseted!\n",
      "\n",
      "\n",
      "Validating ...\n"
     ]
    },
    {
     "name": "stderr",
     "output_type": "stream",
     "text": [
      "100%|██████████| 50/50 [00:21<00:00,  2.36it/s]\n"
     ]
    },
    {
     "name": "stdout",
     "output_type": "stream",
     "text": [
      "Validation Done!\n",
      "Epoch Metrics Saved!\n",
      "Metrics Reseted!\n",
      "Epoch 00014: reducing learning rate of group 0 to 7.8125e-05.\n",
      "\n",
      "\n",
      "       loss  accuracy  precision  recall  f1_score  specificity   iou\n",
      "Train 0.503     0.975      0.712   0.658     0.679        0.989 0.519\n",
      "Valid 0.462     0.983      0.767   0.647     0.696        0.994 0.540\n",
      "\n",
      "\n",
      "\n",
      "\n",
      "============================================================\n",
      "Epoch: 15:\n",
      "Training ...\n"
     ]
    },
    {
     "name": "stderr",
     "output_type": "stream",
     "text": [
      "100%|██████████| 242/242 [03:25<00:00,  1.18it/s]\n"
     ]
    },
    {
     "name": "stdout",
     "output_type": "stream",
     "text": [
      "Training Done!\n",
      "Epoch Metrics Saved!\n",
      "Metrics Reseted!\n",
      "\n",
      "\n",
      "Validating ...\n"
     ]
    },
    {
     "name": "stderr",
     "output_type": "stream",
     "text": [
      "100%|██████████| 50/50 [00:20<00:00,  2.48it/s]\n"
     ]
    },
    {
     "name": "stdout",
     "output_type": "stream",
     "text": [
      "Validation Done!\n",
      "Epoch Metrics Saved!\n",
      "Metrics Reseted!\n",
      "Epoch 00015: reducing learning rate of group 0 to 3.9063e-05.\n",
      "\n",
      "\n",
      "       loss  accuracy  precision  recall  f1_score  specificity   iou\n",
      "Train 0.503     0.975      0.711   0.657     0.678        0.989 0.518\n",
      "Valid 0.465     0.983      0.750   0.651     0.693        0.993 0.536\n",
      "\n",
      "\n",
      "\n",
      "\n",
      "============================================================\n",
      "Epoch: 16:\n",
      "Training ...\n"
     ]
    },
    {
     "name": "stderr",
     "output_type": "stream",
     "text": [
      "100%|██████████| 242/242 [03:16<00:00,  1.23it/s]\n"
     ]
    },
    {
     "name": "stdout",
     "output_type": "stream",
     "text": [
      "Training Done!\n",
      "Epoch Metrics Saved!\n",
      "Metrics Reseted!\n",
      "\n",
      "\n",
      "Validating ...\n"
     ]
    },
    {
     "name": "stderr",
     "output_type": "stream",
     "text": [
      "100%|██████████| 50/50 [00:41<00:00,  1.22it/s]\n"
     ]
    },
    {
     "name": "stdout",
     "output_type": "stream",
     "text": [
      "Validation Done!\n",
      "Epoch Metrics Saved!\n",
      "Metrics Reseted!\n",
      "Epoch 00016: reducing learning rate of group 0 to 1.9531e-05.\n",
      "\n",
      "\n",
      "       loss  accuracy  precision  recall  f1_score  specificity   iou\n",
      "Train 0.499     0.975      0.712   0.663     0.682        0.989 0.522\n",
      "Valid 0.459     0.983      0.754   0.659     0.698        0.993 0.541\n",
      "\n",
      "\n",
      "\n",
      "\n",
      "============================================================\n",
      "Epoch: 17:\n",
      "Training ...\n"
     ]
    },
    {
     "name": "stderr",
     "output_type": "stream",
     "text": [
      "100%|██████████| 242/242 [06:01<00:00,  1.49s/it]\n"
     ]
    },
    {
     "name": "stdout",
     "output_type": "stream",
     "text": [
      "Training Done!\n",
      "Epoch Metrics Saved!\n",
      "Metrics Reseted!\n",
      "\n",
      "\n",
      "Validating ...\n"
     ]
    },
    {
     "name": "stderr",
     "output_type": "stream",
     "text": [
      "100%|██████████| 50/50 [00:46<00:00,  1.07it/s]\n"
     ]
    },
    {
     "name": "stdout",
     "output_type": "stream",
     "text": [
      "Validation Done!\n",
      "Epoch Metrics Saved!\n",
      "Metrics Reseted!\n",
      "Epoch 00017: reducing learning rate of group 0 to 1.0000e-05.\n",
      "\n",
      "\n",
      "       loss  accuracy  precision  recall  f1_score  specificity   iou\n",
      "Train 0.501     0.975      0.711   0.661     0.681        0.989 0.521\n",
      "Valid 0.461     0.983      0.745   0.660     0.695        0.993 0.537\n",
      "\n",
      "\n",
      "\n",
      "\n",
      "============================================================\n",
      "Epoch: 18:\n",
      "Training ...\n"
     ]
    },
    {
     "name": "stderr",
     "output_type": "stream",
     "text": [
      "100%|██████████| 242/242 [07:13<00:00,  1.79s/it]\n"
     ]
    },
    {
     "name": "stdout",
     "output_type": "stream",
     "text": [
      "Training Done!\n",
      "Epoch Metrics Saved!\n",
      "Metrics Reseted!\n",
      "\n",
      "\n",
      "Validating ...\n"
     ]
    },
    {
     "name": "stderr",
     "output_type": "stream",
     "text": [
      "100%|██████████| 50/50 [00:37<00:00,  1.34it/s]\n"
     ]
    },
    {
     "name": "stdout",
     "output_type": "stream",
     "text": [
      "Validation Done!\n",
      "Epoch Metrics Saved!\n",
      "Metrics Reseted!\n",
      "\n",
      "\n",
      "       loss  accuracy  precision  recall  f1_score  specificity   iou\n",
      "Train 0.497     0.975      0.713   0.665     0.683        0.989 0.523\n",
      "Valid 0.462     0.983      0.760   0.646     0.695        0.993 0.537\n",
      "\n",
      "\n",
      "\n",
      "\n",
      "============================================================\n",
      "Epoch: 19:\n",
      "Training ...\n"
     ]
    },
    {
     "name": "stderr",
     "output_type": "stream",
     "text": [
      "100%|██████████| 242/242 [03:16<00:00,  1.23it/s]\n"
     ]
    },
    {
     "name": "stdout",
     "output_type": "stream",
     "text": [
      "Training Done!\n",
      "Epoch Metrics Saved!\n",
      "Metrics Reseted!\n",
      "\n",
      "\n",
      "Validating ...\n"
     ]
    },
    {
     "name": "stderr",
     "output_type": "stream",
     "text": [
      "100%|██████████| 50/50 [00:12<00:00,  4.00it/s]\n"
     ]
    },
    {
     "name": "stdout",
     "output_type": "stream",
     "text": [
      "Validation Done!\n",
      "Epoch Metrics Saved!\n",
      "Metrics Reseted!\n",
      "\n",
      "\n",
      "       loss  accuracy  precision  recall  f1_score  specificity   iou\n",
      "Train 0.499     0.975      0.713   0.662     0.682        0.989 0.522\n",
      "Valid 0.460     0.983      0.770   0.646     0.698        0.994 0.540\n",
      "\n",
      "\n",
      "\n",
      "\n",
      "============================================================\n",
      "Epoch: 20:\n",
      "Training ...\n"
     ]
    },
    {
     "name": "stderr",
     "output_type": "stream",
     "text": [
      "100%|██████████| 242/242 [01:43<00:00,  2.34it/s]\n"
     ]
    },
    {
     "name": "stdout",
     "output_type": "stream",
     "text": [
      "Training Done!\n",
      "Epoch Metrics Saved!\n",
      "Metrics Reseted!\n",
      "\n",
      "\n",
      "Validating ...\n"
     ]
    },
    {
     "name": "stderr",
     "output_type": "stream",
     "text": [
      "100%|██████████| 50/50 [00:12<00:00,  3.92it/s]\n"
     ]
    },
    {
     "name": "stdout",
     "output_type": "stream",
     "text": [
      "Validation Done!\n",
      "Epoch Metrics Saved!\n",
      "Metrics Reseted!\n",
      "\n",
      "\n",
      "       loss  accuracy  precision  recall  f1_score  specificity   iou\n",
      "Train 0.504     0.975      0.710   0.655     0.677        0.989 0.516\n",
      "Valid 0.458     0.983      0.771   0.649     0.700        0.994 0.543\n",
      "\n",
      "\n",
      "\n",
      "\n",
      "============================================================\n",
      "Epoch: 21:\n",
      "Training ...\n"
     ]
    },
    {
     "name": "stderr",
     "output_type": "stream",
     "text": [
      "100%|██████████| 242/242 [01:44<00:00,  2.33it/s]\n"
     ]
    },
    {
     "name": "stdout",
     "output_type": "stream",
     "text": [
      "Training Done!\n",
      "Epoch Metrics Saved!\n",
      "Metrics Reseted!\n",
      "\n",
      "\n",
      "Validating ...\n"
     ]
    },
    {
     "name": "stderr",
     "output_type": "stream",
     "text": [
      "100%|██████████| 50/50 [00:12<00:00,  3.98it/s]\n"
     ]
    },
    {
     "name": "stdout",
     "output_type": "stream",
     "text": [
      "Validation Done!\n",
      "Epoch Metrics Saved!\n",
      "Metrics Reseted!\n",
      "\n",
      "\n",
      "       loss  accuracy  precision  recall  f1_score  specificity   iou\n",
      "Train 0.500     0.975      0.712   0.662     0.682        0.989 0.522\n",
      "Valid 0.464     0.983      0.752   0.650     0.693        0.993 0.535\n",
      "\n",
      "\n",
      "\n",
      "\n",
      "============================================================\n",
      "Epoch: 22:\n",
      "Training ...\n"
     ]
    },
    {
     "name": "stderr",
     "output_type": "stream",
     "text": [
      "100%|██████████| 242/242 [01:44<00:00,  2.31it/s]\n"
     ]
    },
    {
     "name": "stdout",
     "output_type": "stream",
     "text": [
      "Training Done!\n",
      "Epoch Metrics Saved!\n",
      "Metrics Reseted!\n",
      "\n",
      "\n",
      "Validating ...\n"
     ]
    },
    {
     "name": "stderr",
     "output_type": "stream",
     "text": [
      "100%|██████████| 50/50 [00:12<00:00,  3.97it/s]\n"
     ]
    },
    {
     "name": "stdout",
     "output_type": "stream",
     "text": [
      "Validation Done!\n",
      "Epoch Metrics Saved!\n",
      "Metrics Reseted!\n",
      "\n",
      "\n",
      "       loss  accuracy  precision  recall  f1_score  specificity   iou\n",
      "Train 0.499     0.975      0.716   0.658     0.682        0.989 0.521\n",
      "Valid 0.459     0.983      0.763   0.655     0.699        0.993 0.542\n",
      "\n",
      "\n",
      "\n",
      "\n",
      "============================================================\n",
      "Epoch: 23:\n",
      "Training ...\n"
     ]
    },
    {
     "name": "stderr",
     "output_type": "stream",
     "text": [
      "100%|██████████| 242/242 [01:45<00:00,  2.30it/s]\n"
     ]
    },
    {
     "name": "stdout",
     "output_type": "stream",
     "text": [
      "Training Done!\n",
      "Epoch Metrics Saved!\n",
      "Metrics Reseted!\n",
      "\n",
      "\n",
      "Validating ...\n"
     ]
    },
    {
     "name": "stderr",
     "output_type": "stream",
     "text": [
      "100%|██████████| 50/50 [00:12<00:00,  3.85it/s]\n"
     ]
    },
    {
     "name": "stdout",
     "output_type": "stream",
     "text": [
      "Validation Done!\n",
      "Epoch Metrics Saved!\n",
      "Metrics Reseted!\n",
      "\n",
      "\n",
      "       loss  accuracy  precision  recall  f1_score  specificity   iou\n",
      "Train 0.503     0.975      0.711   0.659     0.679        0.988 0.519\n",
      "Valid 0.470     0.983      0.761   0.638     0.687        0.993 0.531\n",
      "\n",
      "\n",
      "\n",
      "\n",
      "============================================================\n",
      "Epoch: 24:\n",
      "Training ...\n"
     ]
    },
    {
     "name": "stderr",
     "output_type": "stream",
     "text": [
      "100%|██████████| 242/242 [01:45<00:00,  2.29it/s]\n"
     ]
    },
    {
     "name": "stdout",
     "output_type": "stream",
     "text": [
      "Training Done!\n",
      "Epoch Metrics Saved!\n",
      "Metrics Reseted!\n",
      "\n",
      "\n",
      "Validating ...\n"
     ]
    },
    {
     "name": "stderr",
     "output_type": "stream",
     "text": [
      "100%|██████████| 50/50 [00:12<00:00,  3.95it/s]\n"
     ]
    },
    {
     "name": "stdout",
     "output_type": "stream",
     "text": [
      "Validation Done!\n",
      "Epoch Metrics Saved!\n",
      "Metrics Reseted!\n",
      "\n",
      "\n",
      "       loss  accuracy  precision  recall  f1_score  specificity   iou\n",
      "Train 0.504     0.975      0.709   0.658     0.678        0.989 0.518\n",
      "Valid 0.463     0.983      0.744   0.657     0.693        0.993 0.536\n",
      "\n",
      "\n",
      "\n",
      "\n",
      "============================================================\n",
      "Epoch: 25:\n",
      "Training ...\n"
     ]
    },
    {
     "name": "stderr",
     "output_type": "stream",
     "text": [
      " 52%|█████▏    | 126/242 [01:01<00:56,  2.04it/s]\n"
     ]
    },
    {
     "ename": "KeyboardInterrupt",
     "evalue": "",
     "output_type": "error",
     "traceback": [
      "\u001b[0;31m---------------------------------------------------------------------------\u001b[0m",
      "\u001b[0;31mKeyboardInterrupt\u001b[0m                         Traceback (most recent call last)",
      "Cell \u001b[0;32mIn[5], line 8\u001b[0m\n\u001b[1;32m      5\u001b[0m \u001b[39mfor\u001b[39;00m i \u001b[39min\u001b[39;00m \u001b[39mrange\u001b[39m(epochs):\n\u001b[1;32m      6\u001b[0m     \u001b[39mprint\u001b[39m(\u001b[39mf\u001b[39m\u001b[39m'\u001b[39m\u001b[39mEpoch: \u001b[39m\u001b[39m{\u001b[39;00mi\u001b[39m+\u001b[39m\u001b[39m1\u001b[39m\u001b[39m}\u001b[39;00m\u001b[39m:\u001b[39m\u001b[39m'\u001b[39m)\n\u001b[0;32m----> 8\u001b[0m     train_epoch_metrics \u001b[39m=\u001b[39m train_fn(train_dl, model, optimizer , train_metrics)\n\u001b[1;32m      9\u001b[0m     \u001b[39mprint\u001b[39m(\u001b[39m'\u001b[39m\u001b[39m\\n\u001b[39;00m\u001b[39m'\u001b[39m)\n\u001b[1;32m     10\u001b[0m     valid_epoch_metrics \u001b[39m=\u001b[39m eval_fn(test_dl, model , valid_metrics)\n",
      "File \u001b[0;32m~/repo/AerialSeg/src/train.py:24\u001b[0m, in \u001b[0;36mtrain_fn\u001b[0;34m(train_dataloader, model, optimizer, metrics)\u001b[0m\n\u001b[1;32m     22\u001b[0m \u001b[39mprint\u001b[39m(\u001b[39m\"\u001b[39m\u001b[39mTraining ...\u001b[39m\u001b[39m\"\u001b[39m)\n\u001b[1;32m     23\u001b[0m model\u001b[39m.\u001b[39mtrain()\n\u001b[0;32m---> 24\u001b[0m \u001b[39mfor\u001b[39;00m image, mask \u001b[39min\u001b[39;00m tqdm(train_dataloader):\n\u001b[1;32m     25\u001b[0m     optimizer\u001b[39m.\u001b[39mzero_grad()\n\u001b[1;32m     26\u001b[0m     logits, loss \u001b[39m=\u001b[39m model(image, mask)\n",
      "File \u001b[0;32m~/anaconda3/envs/cv/lib/python3.11/site-packages/tqdm/std.py:1178\u001b[0m, in \u001b[0;36mtqdm.__iter__\u001b[0;34m(self)\u001b[0m\n\u001b[1;32m   1175\u001b[0m time \u001b[39m=\u001b[39m \u001b[39mself\u001b[39m\u001b[39m.\u001b[39m_time\n\u001b[1;32m   1177\u001b[0m \u001b[39mtry\u001b[39;00m:\n\u001b[0;32m-> 1178\u001b[0m     \u001b[39mfor\u001b[39;00m obj \u001b[39min\u001b[39;00m iterable:\n\u001b[1;32m   1179\u001b[0m         \u001b[39myield\u001b[39;00m obj\n\u001b[1;32m   1180\u001b[0m         \u001b[39m# Update and possibly print the progressbar.\u001b[39;00m\n\u001b[1;32m   1181\u001b[0m         \u001b[39m# Note: does not call self.update(1) for speed optimisation.\u001b[39;00m\n",
      "File \u001b[0;32m~/anaconda3/envs/cv/lib/python3.11/site-packages/torch/utils/data/dataloader.py:633\u001b[0m, in \u001b[0;36m_BaseDataLoaderIter.__next__\u001b[0;34m(self)\u001b[0m\n\u001b[1;32m    630\u001b[0m \u001b[39mif\u001b[39;00m \u001b[39mself\u001b[39m\u001b[39m.\u001b[39m_sampler_iter \u001b[39mis\u001b[39;00m \u001b[39mNone\u001b[39;00m:\n\u001b[1;32m    631\u001b[0m     \u001b[39m# TODO(https://github.com/pytorch/pytorch/issues/76750)\u001b[39;00m\n\u001b[1;32m    632\u001b[0m     \u001b[39mself\u001b[39m\u001b[39m.\u001b[39m_reset()  \u001b[39m# type: ignore[call-arg]\u001b[39;00m\n\u001b[0;32m--> 633\u001b[0m data \u001b[39m=\u001b[39m \u001b[39mself\u001b[39;49m\u001b[39m.\u001b[39;49m_next_data()\n\u001b[1;32m    634\u001b[0m \u001b[39mself\u001b[39m\u001b[39m.\u001b[39m_num_yielded \u001b[39m+\u001b[39m\u001b[39m=\u001b[39m \u001b[39m1\u001b[39m\n\u001b[1;32m    635\u001b[0m \u001b[39mif\u001b[39;00m \u001b[39mself\u001b[39m\u001b[39m.\u001b[39m_dataset_kind \u001b[39m==\u001b[39m _DatasetKind\u001b[39m.\u001b[39mIterable \u001b[39mand\u001b[39;00m \\\n\u001b[1;32m    636\u001b[0m         \u001b[39mself\u001b[39m\u001b[39m.\u001b[39m_IterableDataset_len_called \u001b[39mis\u001b[39;00m \u001b[39mnot\u001b[39;00m \u001b[39mNone\u001b[39;00m \u001b[39mand\u001b[39;00m \\\n\u001b[1;32m    637\u001b[0m         \u001b[39mself\u001b[39m\u001b[39m.\u001b[39m_num_yielded \u001b[39m>\u001b[39m \u001b[39mself\u001b[39m\u001b[39m.\u001b[39m_IterableDataset_len_called:\n",
      "File \u001b[0;32m~/anaconda3/envs/cv/lib/python3.11/site-packages/torch/utils/data/dataloader.py:677\u001b[0m, in \u001b[0;36m_SingleProcessDataLoaderIter._next_data\u001b[0;34m(self)\u001b[0m\n\u001b[1;32m    675\u001b[0m \u001b[39mdef\u001b[39;00m \u001b[39m_next_data\u001b[39m(\u001b[39mself\u001b[39m):\n\u001b[1;32m    676\u001b[0m     index \u001b[39m=\u001b[39m \u001b[39mself\u001b[39m\u001b[39m.\u001b[39m_next_index()  \u001b[39m# may raise StopIteration\u001b[39;00m\n\u001b[0;32m--> 677\u001b[0m     data \u001b[39m=\u001b[39m \u001b[39mself\u001b[39;49m\u001b[39m.\u001b[39;49m_dataset_fetcher\u001b[39m.\u001b[39;49mfetch(index)  \u001b[39m# may raise StopIteration\u001b[39;00m\n\u001b[1;32m    678\u001b[0m     \u001b[39mif\u001b[39;00m \u001b[39mself\u001b[39m\u001b[39m.\u001b[39m_pin_memory:\n\u001b[1;32m    679\u001b[0m         data \u001b[39m=\u001b[39m _utils\u001b[39m.\u001b[39mpin_memory\u001b[39m.\u001b[39mpin_memory(data, \u001b[39mself\u001b[39m\u001b[39m.\u001b[39m_pin_memory_device)\n",
      "File \u001b[0;32m~/anaconda3/envs/cv/lib/python3.11/site-packages/torch/utils/data/_utils/fetch.py:51\u001b[0m, in \u001b[0;36m_MapDatasetFetcher.fetch\u001b[0;34m(self, possibly_batched_index)\u001b[0m\n\u001b[1;32m     49\u001b[0m         data \u001b[39m=\u001b[39m \u001b[39mself\u001b[39m\u001b[39m.\u001b[39mdataset\u001b[39m.\u001b[39m__getitems__(possibly_batched_index)\n\u001b[1;32m     50\u001b[0m     \u001b[39melse\u001b[39;00m:\n\u001b[0;32m---> 51\u001b[0m         data \u001b[39m=\u001b[39m [\u001b[39mself\u001b[39;49m\u001b[39m.\u001b[39;49mdataset[idx] \u001b[39mfor\u001b[39;49;00m idx \u001b[39min\u001b[39;49;00m possibly_batched_index]\n\u001b[1;32m     52\u001b[0m \u001b[39melse\u001b[39;00m:\n\u001b[1;32m     53\u001b[0m     data \u001b[39m=\u001b[39m \u001b[39mself\u001b[39m\u001b[39m.\u001b[39mdataset[possibly_batched_index]\n",
      "File \u001b[0;32m~/anaconda3/envs/cv/lib/python3.11/site-packages/torch/utils/data/_utils/fetch.py:51\u001b[0m, in \u001b[0;36m<listcomp>\u001b[0;34m(.0)\u001b[0m\n\u001b[1;32m     49\u001b[0m         data \u001b[39m=\u001b[39m \u001b[39mself\u001b[39m\u001b[39m.\u001b[39mdataset\u001b[39m.\u001b[39m__getitems__(possibly_batched_index)\n\u001b[1;32m     50\u001b[0m     \u001b[39melse\u001b[39;00m:\n\u001b[0;32m---> 51\u001b[0m         data \u001b[39m=\u001b[39m [\u001b[39mself\u001b[39;49m\u001b[39m.\u001b[39;49mdataset[idx] \u001b[39mfor\u001b[39;00m idx \u001b[39min\u001b[39;00m possibly_batched_index]\n\u001b[1;32m     52\u001b[0m \u001b[39melse\u001b[39;00m:\n\u001b[1;32m     53\u001b[0m     data \u001b[39m=\u001b[39m \u001b[39mself\u001b[39m\u001b[39m.\u001b[39mdataset[possibly_batched_index]\n",
      "File \u001b[0;32m~/repo/AerialSeg/src/dataset.py:69\u001b[0m, in \u001b[0;36mSegmentationDataset.__getitem__\u001b[0;34m(self, idx)\u001b[0m\n\u001b[1;32m     67\u001b[0m \u001b[39mdef\u001b[39;00m \u001b[39m__getitem__\u001b[39m(\u001b[39mself\u001b[39m, idx:\u001b[39mint\u001b[39m):\n\u001b[1;32m     68\u001b[0m     image \u001b[39m=\u001b[39m \u001b[39mself\u001b[39m\u001b[39m.\u001b[39mget_image(idx)\n\u001b[0;32m---> 69\u001b[0m     mask \u001b[39m=\u001b[39m \u001b[39mself\u001b[39;49m\u001b[39m.\u001b[39;49mget_mask(idx)\n\u001b[1;32m     70\u001b[0m     image , mask  \u001b[39m=\u001b[39m \u001b[39mself\u001b[39m\u001b[39m.\u001b[39mpreprocess(image, mask)\n\u001b[1;32m     72\u001b[0m     \u001b[39mreturn\u001b[39;00m image\u001b[39m.\u001b[39mto(\u001b[39mself\u001b[39m\u001b[39m.\u001b[39mdevice), mask\u001b[39m.\u001b[39mto(\u001b[39mself\u001b[39m\u001b[39m.\u001b[39mdevice)\n",
      "File \u001b[0;32m~/repo/AerialSeg/src/dataset.py:82\u001b[0m, in \u001b[0;36mSegmentationDataset.get_mask\u001b[0;34m(self, idx)\u001b[0m\n\u001b[1;32m     80\u001b[0m \u001b[39mdef\u001b[39;00m \u001b[39mget_mask\u001b[39m(\u001b[39mself\u001b[39m, idx:\u001b[39mint\u001b[39m):\n\u001b[1;32m     81\u001b[0m     mask_path \u001b[39m=\u001b[39m \u001b[39mself\u001b[39m\u001b[39m.\u001b[39mdf\u001b[39m.\u001b[39miloc[idx, \u001b[39m3\u001b[39m]\n\u001b[0;32m---> 82\u001b[0m     mask \u001b[39m=\u001b[39m cv2\u001b[39m.\u001b[39;49mimread(mask_path, cv2\u001b[39m.\u001b[39;49mIMREAD_GRAYSCALE)\n\u001b[1;32m     83\u001b[0m     mask \u001b[39m=\u001b[39m cv2\u001b[39m.\u001b[39mresize(mask\u001b[39m/\u001b[39m\u001b[39m255\u001b[39m, (IMAGE_SIZE, IMAGE_SIZE))\n\u001b[1;32m     84\u001b[0m     mask \u001b[39m=\u001b[39m np\u001b[39m.\u001b[39mexpand_dims(mask, axis\u001b[39m=\u001b[39m\u001b[39m-\u001b[39m\u001b[39m1\u001b[39m)\n",
      "\u001b[0;31mKeyboardInterrupt\u001b[0m: "
     ]
    }
   ],
   "source": [
    "best_loss = np.inf\n",
    "epochs = 50\n",
    "train_metrics = Metrics()\n",
    "valid_metrics = Metrics()\n",
    "for i in range(epochs):\n",
    "    print(f'Epoch: {i+1}:')\n",
    "    \n",
    "    train_epoch_metrics = train_fn(train_dl, model, optimizer , train_metrics)\n",
    "    print('\\n')\n",
    "    valid_epoch_metrics = eval_fn(test_dl, model , valid_metrics)\n",
    "    scheduler.step(valid_epoch_metrics['loss'])\n",
    "    print('\\n')\n",
    "    epoch_df = pd.DataFrame([train_epoch_metrics, valid_epoch_metrics] , index=['Train' , 'Valid'])\n",
    "    epoch_df.style.set_properties(**{'text-align': 'left'})\n",
    "    with pd.option_context('expand_frame_repr', False):\n",
    "        print (epoch_df)\n",
    "    print('\\n')\n",
    "    if valid_epoch_metrics['loss'] < best_loss:\n",
    "        best_loss = valid_epoch_metrics['loss']\n",
    "        torch.save(model.state_dict(), f'models/best_model.pth')\n",
    "        print('Model Saved')\n",
    "    print(\"\\n\")\n",
    "    print('============================================================')"
   ]
  },
  {
   "cell_type": "code",
   "execution_count": null,
   "metadata": {},
   "outputs": [],
   "source": []
  }
 ],
 "metadata": {
  "kernelspec": {
   "display_name": "cv",
   "language": "python",
   "name": "python3"
  },
  "language_info": {
   "codemirror_mode": {
    "name": "ipython",
    "version": 3
   },
   "file_extension": ".py",
   "mimetype": "text/x-python",
   "name": "python",
   "nbconvert_exporter": "python",
   "pygments_lexer": "ipython3",
   "version": "3.11.3"
  },
  "orig_nbformat": 4
 },
 "nbformat": 4,
 "nbformat_minor": 2
}
